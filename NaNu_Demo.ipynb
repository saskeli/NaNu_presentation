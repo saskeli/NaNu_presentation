{
 "cells": [
  {
   "cell_type": "code",
   "execution_count": 1,
   "metadata": {},
   "outputs": [],
   "source": [
    "T = \"a\" * 100000\n",
    "P = \"a\" * 99 + \"b\""
   ]
  },
  {
   "cell_type": "code",
   "execution_count": 2,
   "metadata": {},
   "outputs": [],
   "source": [
    "def str_cont(T, P):\n",
    "    for i in range(len(T) - len(P)):\n",
    "        for j in range(len(P)):\n",
    "            if (T[i + j] != P[j]):\n",
    "                break\n",
    "        else:\n",
    "            return True"
   ]
  },
  {
   "cell_type": "markdown",
   "metadata": {},
   "source": [
    "Sökningen sker genom att jämföra varje position inom $T$ med $P$\n",
    "\n",
    "<pre>\n",
    "aaaaaaaaaaaaaaaaaaaaaaaaaaaaaaaaaaaaaaaaaaaaaaaaa\n",
    "<span style=\"color:green\">aaaaa</span><span style=\"color:red\">b</span> <i>b matchade inte så vi hoppar till nästa position.</i>\n",
    " <span style=\"color:green\">aaaaa</span><span style=\"color:red\">b</span> <i>b matchade inte.</i>\n",
    "  <span style=\"color:green\">aaaaa</span><span style=\"color:red\">b</span> <i>b matchade inte.</i>\n",
    "   <span style=\"color:green\">aaaaa</span><span style=\"color:red\">b</span> <i>b matchade inte.</i>\n",
    "</pre>\n",
    "\n",
    "Sökningen tar i värsta fall ungefär $c \\cdot n \\cdot m$ sekunder (där $c$ är en liten konstant. $\\sim 1 / 10000000$ i det här fallet.)"
   ]
  },
  {
   "cell_type": "code",
   "execution_count": 3,
   "metadata": {},
   "outputs": [
    {
     "name": "stdout",
     "output_type": "stream",
     "text": [
      "1.45 s ± 3.12 ms per loop (mean ± std. dev. of 7 runs, 1 loop each)\n"
     ]
    }
   ],
   "source": [
    "%%timeit\n",
    "str_cont(T, P)"
   ]
  },
  {
   "cell_type": "markdown",
   "metadata": {},
   "source": [
    "I exemplet märkte ni äventuellt att vi använder \"massor\" med resurser för att jämföra a bokstäver som alltid matchar.\n",
    "\n",
    "Då b bokstaven inte matchar \"vet\" vi ju att om fem stycken a matchade innan så matchar åtminstone fyra stycken i nästa position. Då skulle vi i stället kunna göra.\n",
    "\n",
    "<pre>\n",
    "aaaaaaaaaaaaaaaaaaaaaaaaaaaaaaaaaaaaaaaaaaaaaaaaa\n",
    "<span style=\"color:green\">aaaaa</span><span style=\"color:red\">b</span> <i>b matchade inte så vi hoppar till nästa position.</i>\n",
    " <span style=\"color:gray\">aaaa</span><span style=\"color:green\">a</span><span style=\"color:red\">b</span> <i>b matchade inte.</i>\n",
    "  <span style=\"color:gray\">aaaa</span><span style=\"color:green\">a</span><span style=\"color:red\">b</span> <i>b matchade inte.</i>\n",
    "   <span style=\"color:gray\">aaaa</span><span style=\"color:green\">a</span><span style=\"color:red\">b</span> <i>b matchade inte.</i>\n",
    "</pre>\n",
    "\n",
    "Där vi hoppar över alla de gråa a bokstäverna som kommer att matcha om de matchade för förra positionen."
   ]
  },
  {
   "cell_type": "markdown",
   "metadata": {},
   "source": [
    "Tyvärr(?) har smarta människor redan tidigare märkt detta.\n",
    "\n",
    "1970 hittade James Morris och Donald Knuth på en bättre lösning oberoende av varandra. År 1977 publicerade Knuth och Morris tilsammans med Vaughan Pratt ett papper där en effektiv version av vad som nu kallas för KMP algoritmen.\n",
    "\n",
    "Denna, eller någon nyare ännu bättre lösning är redan för det mesta implementerad i standard bibliotek av programmeringsspråk. "
   ]
  },
  {
   "cell_type": "code",
   "execution_count": 4,
   "metadata": {},
   "outputs": [
    {
     "name": "stdout",
     "output_type": "stream",
     "text": [
      "403 µs ± 1.86 µs per loop (mean ± std. dev. of 7 runs, 1000 loops each)\n"
     ]
    }
   ],
   "source": [
    "%%timeit\n",
    "hittades = P in T"
   ]
  },
  {
   "cell_type": "code",
   "execution_count": 5,
   "metadata": {},
   "outputs": [
    {
     "name": "stdout",
     "output_type": "stream",
     "text": [
      "Writing strstr.cpp\n"
     ]
    }
   ],
   "source": [
    "%%writefile strstr.cpp\n",
    "#include<cstring>\n",
    "#include<iostream>\n",
    "\n",
    "int main(int argc, char const *argv[]) {\n",
    "    auto res = strstr(argv[1], argv[2]);\n",
    "    if (res != nullptr) {\n",
    "        std::cout << int(res - argv[1]) << std::endl;\n",
    "    }\n",
    "    return 0;\n",
    "}\n"
   ]
  },
  {
   "cell_type": "code",
   "execution_count": 11,
   "metadata": {},
   "outputs": [],
   "source": [
    "!g++ -std=c++2a -Ofast -o strstr strstr.cpp"
   ]
  },
  {
   "cell_type": "code",
   "execution_count": 14,
   "metadata": {},
   "outputs": [
    {
     "name": "stdout",
     "output_type": "stream",
     "text": [
      "156 ms ± 148 µs per loop (mean ± std. dev. of 7 runs, 10 loops each)\n"
     ]
    }
   ],
   "source": [
    "%%timeit\n",
    "!./strstr {T} {P}"
   ]
  },
  {
   "cell_type": "markdown",
   "metadata": {},
   "source": []
  }
 ],
 "metadata": {
  "kernelspec": {
   "display_name": "Python 3 (ipykernel)",
   "language": "python",
   "name": "python3"
  },
  "language_info": {
   "codemirror_mode": {
    "name": "ipython",
    "version": 3
   },
   "file_extension": ".py",
   "mimetype": "text/x-python",
   "name": "python",
   "nbconvert_exporter": "python",
   "pygments_lexer": "ipython3",
   "version": "3.10.9"
  }
 },
 "nbformat": 4,
 "nbformat_minor": 4
}
